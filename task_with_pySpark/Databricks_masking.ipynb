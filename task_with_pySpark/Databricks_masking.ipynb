{
 "cells": [
  {
   "cell_type": "code",
   "execution_count": 0,
   "metadata": {
    "application/vnd.databricks.v1+cell": {
     "cellMetadata": {
      "byteLimit": 2048000,
      "rowLimit": 10000
     },
     "inputWidgets": {},
     "nuid": "8a0ef41d-590d-4742-a941-edc536b32ded",
     "showTitle": false,
     "title": ""
    }
   },
   "outputs": [
    {
     "output_type": "stream",
     "name": "stdout",
     "output_type": "stream",
     "text": [
      "\u001B[43mNote: you may need to restart the kernel using %restart_python or dbutils.library.restartPython() to use updated packages.\u001B[0m\nRequirement already satisfied: faker in /local_disk0/.ephemeral_nfs/envs/pythonEnv-8aa2b7e6-938a-4fe4-a7a4-e1d0dc15df7c/lib/python3.11/site-packages (28.4.1)\nRequirement already satisfied: python-dateutil>=2.4 in /databricks/python3/lib/python3.11/site-packages (from faker) (2.8.2)\nRequirement already satisfied: six>=1.5 in /usr/lib/python3/dist-packages (from python-dateutil>=2.4->faker) (1.16.0)\n\u001B[43mNote: you may need to restart the kernel using %restart_python or dbutils.library.restartPython() to use updated packages.\u001B[0m\n"
     ]
    }
   ],
   "source": [
    "%pip install faker"
   ]
  },
  {
   "cell_type": "code",
   "execution_count": 0,
   "metadata": {
    "application/vnd.databricks.v1+cell": {
     "cellMetadata": {
      "byteLimit": 2048000,
      "rowLimit": 10000
     },
     "inputWidgets": {},
     "nuid": "75bfb5a0-3332-4cb7-97a5-1fe74af60837",
     "showTitle": false,
     "title": ""
    }
   },
   "outputs": [],
   "source": [
    "from pyspark.sql import SparkSession\n",
    "from pyspark.sql.functions import udf,col, expr\n",
    "from pyspark.sql.types import StringType, DateType\n",
    "from faker import Faker\n",
    "import pandas as pd\n",
    "\n",
    "# Initialize SparkSession\n",
    "spark = SparkSession.builder \\\n",
    "    .appName(\"GenerateFakeData\") \\\n",
    "    .config(\"spark.sql.shuffle.partitions\", \"500\") \\\n",
    "    .config(\"spark.executor.memory\", \"8g\") \\\n",
    "    .config(\"spark.executor.cores\", \"16\") \\\n",
    "    .getOrCreate()"
   ]
  },
  {
   "cell_type": "code",
   "execution_count": 0,
   "metadata": {
    "application/vnd.databricks.v1+cell": {
     "cellMetadata": {
      "byteLimit": 2048000,
      "rowLimit": 10000
     },
     "inputWidgets": {},
     "nuid": "a59b4d5b-82d2-4601-b7a1-6aaca08ad114",
     "showTitle": false,
     "title": ""
    }
   },
   "outputs": [],
   "source": [
    "\n",
    "fake = Faker()\n",
    "\n",
    "# UDFs for generating fake data\n",
    "def generate_first_name():\n",
    "    return fake.first_name()\n",
    "\n",
    "def generate_last_name():\n",
    "    return fake.last_name()\n",
    "\n",
    "def generate_address():\n",
    "    return fake.address()\n",
    "\n",
    "def generate_dob():\n",
    "    return fake.date_of_birth(minimum_age=18, maximum_age=90).strftime(\"%Y-%m-%d\")\n",
    "\n",
    "first_name_udf = udf(generate_first_name, StringType())\n",
    "last_name_udf = udf(generate_last_name, StringType())\n",
    "address_udf = udf(generate_address, StringType())\n",
    "dob_udf = udf(generate_dob, StringType())"
   ]
  },
  {
   "cell_type": "code",
   "execution_count": 0,
   "metadata": {
    "application/vnd.databricks.v1+cell": {
     "cellMetadata": {
      "byteLimit": 2048000,
      "rowLimit": 10000
     },
     "inputWidgets": {},
     "nuid": "c69dbaff-9aee-4c2f-b65f-628151f841bc",
     "showTitle": false,
     "title": ""
    }
   },
   "outputs": [],
   "source": [
    "first_name_udf = udf(generate_first_name, StringType())\n",
    "last_name_udf = udf(generate_last_name, StringType())\n",
    "address_udf = udf(generate_address, StringType())\n",
    "dob_udf = udf(generate_dob, StringType())\n",
    "\n",
    "# Create a DataFrame with the required number of rows\n",
    "num_records = 30000000  # Adjust based on the size needed\n",
    "df = spark.range(num_records) \\\n",
    "    .select(\n",
    "        first_name_udf().alias(\"first_name\"),\n",
    "        last_name_udf().alias(\"last_name\"),\n",
    "        address_udf().alias(\"address\"),\n",
    "        dob_udf().alias(\"dob\")\n",
    "    )\n",
    "\n"
   ]
  },
  {
   "cell_type": "code",
   "execution_count": 0,
   "metadata": {
    "application/vnd.databricks.v1+cell": {
     "cellMetadata": {
      "byteLimit": 2048000,
      "rowLimit": 10000
     },
     "inputWidgets": {},
     "nuid": "efec035f-718d-404e-8346-70ca26a3eaa0",
     "showTitle": false,
     "title": ""
    }
   },
   "outputs": [
    {
     "output_type": "stream",
     "name": "stdout",
     "output_type": "stream",
     "text": [
      "Data saved at: dbfs:/dbfs/Workspace/Users/kratikamahale_outlook.com#ext#@kratikamahaleoutlook.onmicrosoft.com/databricks_training/output3.csv\n"
     ]
    }
   ],
   "source": [
    "# Repartition to balance the load\n",
    "df = df.repartition(300)  # Increase partitions if necessary\n",
    "\n",
    "# Write the DataFrame to CSV\n",
    "output_path = \"dbfs:/dbfs/Workspace/Users/kratikamahale_outlook.com#ext#@kratikamahaleoutlook.onmicrosoft.com/databricks_training/output3.csv\"  # Use DBFS path for Databricks\n",
    "df.write.csv(output_path, header=True, mode=\"overwrite\")\n",
    "\n",
    "print(f\"Data saved at: {output_path}\")\n"
   ]
  },
  {
   "cell_type": "code",
   "execution_count": 0,
   "metadata": {
    "application/vnd.databricks.v1+cell": {
     "cellMetadata": {
      "byteLimit": 2048000,
      "rowLimit": 10000
     },
     "inputWidgets": {},
     "nuid": "d60ab056-4409-4d3c-b329-2537c73657e1",
     "showTitle": false,
     "title": ""
    }
   },
   "outputs": [
    {
     "output_type": "stream",
     "name": "stdout",
     "output_type": "stream",
     "text": [
      "+------------------+----------+--------------+----+\n|        first_name| last_name|       address| dob|\n+------------------+----------+--------------+----+\n|             K****|   R******|Address Masked|NULL|\n|       A**********| *********|Address Masked|NULL|\n|         K********|   S******|Address Masked|NULL|\n|         W********| *********|Address Masked|NULL|\n|           M******|    D*****|Address Masked|NULL|\n|        A*********| *********|Address Masked|NULL|\n|             A****|     S****|Address Masked|NULL|\n|   N**************| *********|Address Masked|NULL|\n|             R****|    G*****|Address Masked|NULL|\n|  L***************| *********|Address Masked|NULL|\n|              J***|     A****|Address Masked|NULL|\n|    P*************| *********|Address Masked|NULL|\n|            A*****|    P*****|Address Masked|NULL|\n|      N***********| *********|Address Masked|NULL|\n|             K****|   R******|Address Masked|NULL|\n|     C************| *********|Address Masked|NULL|\n|          J*******|    R*****|Address Masked|NULL|\n|    S*************| *********|Address Masked|NULL|\n|          J*******|     S****|Address Masked|NULL|\n|      C***********| *********|Address Masked|NULL|\n|             K****|    T*****|Address Masked|NULL|\n|     N************| *********|Address Masked|NULL|\n|            N*****|   M******|Address Masked|NULL|\n|          J*******| *********|Address Masked|NULL|\n|             L****|   C******|Address Masked|NULL|\n|    C*************| *********|Address Masked|NULL|\n|           R******|   S******|Address Masked|NULL|\n|     R************| *********|Address Masked|NULL|\n|           A******|   J******|Address Masked|NULL|\n|       B**********| *********|Address Masked|NULL|\n|              S***|      H***|Address Masked|NULL|\n|     A************|2*********|Address Masked|NULL|\n|            S*****|       K**|Address Masked|NULL|\n|N*****************| *********|Address Masked|NULL|\n|             J****|   F******|Address Masked|NULL|\n|     A************|1*********|Address Masked|NULL|\n|            A*****|   A******|Address Masked|NULL|\n|        C*********| *********|Address Masked|NULL|\n|          M*******|  D*******|Address Masked|NULL|\n|   L**************| *********|Address Masked|NULL|\n|             D****|  A*******|Address Masked|NULL|\n|       M**********| *********|Address Masked|NULL|\n|             K****|  P*******|Address Masked|NULL|\n|     D************|1*********|Address Masked|NULL|\n|            S*****|   R******|Address Masked|NULL|\n|      K***********| *********|Address Masked|NULL|\n|            R*****|     P****|Address Masked|NULL|\n|     D************|1*********|Address Masked|NULL|\n|            A*****|   J******|Address Masked|NULL|\n|  S***************| *********|Address Masked|NULL|\n+------------------+----------+--------------+----+\nonly showing top 50 rows\n\n"
     ]
    }
   ],
   "source": [
    "# Path to the CSV file in DBFS\n",
    "\n",
    "\n",
    "# Read the CSV file from DBFS\n",
    "df = spark.read.csv(output_path, header=True, inferSchema=True)\n",
    "\n",
    "# Define the masking functions\n",
    "def mask_name(name):\n",
    "    return name[0] + \"*\" * (len(name) - 1)  # Mask all but the first character\n",
    "\n",
    "def mask_address(address):\n",
    "    return \"Address Masked\"\n",
    "\n",
    "# Register UDFs for masking\n",
    "from pyspark.sql.functions import udf\n",
    "from pyspark.sql.types import StringType\n",
    "\n",
    "mask_name_udf = udf(mask_name, StringType())\n",
    "mask_address_udf = udf(mask_address, StringType())\n",
    "\n",
    "# Apply masking to the DataFrame\n",
    "masked_df = df.withColumn(\"first_name\", mask_name_udf(col(\"first_name\"))) \\\n",
    "              .withColumn(\"last_name\", mask_name_udf(col(\"last_name\"))) \\\n",
    "              .withColumn(\"address\", mask_address_udf(col(\"address\")))\n",
    "masked_df.show(50)\n"
   ]
  },
  {
   "cell_type": "code",
   "execution_count": 0,
   "metadata": {
    "application/vnd.databricks.v1+cell": {
     "cellMetadata": {
      "byteLimit": 2048000,
      "rowLimit": 10000
     },
     "inputWidgets": {},
     "nuid": "24678706-dd88-40c8-8a31-ca4bb6593b92",
     "showTitle": false,
     "title": ""
    }
   },
   "outputs": [],
   "source": [
    "output_path = \"dbfs:/dbfs/Workspace/Users/kratikamahale_outlook.com#ext#@kratikamahaleoutlook.onmicrosoft.com/databricks_training/masked.csv\"  # Use DBFS path for Databricks\n",
    "masked_df.write.csv(output_path, header=True, mode=\"overwrite\")"
   ]
  },
  {
   "cell_type": "code",
   "execution_count": 0,
   "metadata": {
    "application/vnd.databricks.v1+cell": {
     "cellMetadata": {
      "byteLimit": 2048000,
      "rowLimit": 10000
     },
     "inputWidgets": {},
     "nuid": "9be5eec3-5406-42dc-92e5-bc57ee95718f",
     "showTitle": false,
     "title": ""
    }
   },
   "outputs": [
    {
     "output_type": "execute_result",
     "data": {
      "text/plain": [
       "[FileInfo(path='dbfs:/dbfs/Workspace/Users/kratikamahale_outlook.com#ext#@kratikamahaleoutlook.onmicrosoft.com/databricks_training/masked.csv/_SUCCESS', name='_SUCCESS', size=0, modificationTime=1725612487000),\n",
       " FileInfo(path='dbfs:/dbfs/Workspace/Users/kratikamahale_outlook.com#ext#@kratikamahaleoutlook.onmicrosoft.com/databricks_training/masked.csv/_committed_3832948855196801319', name='_committed_3832948855196801319', size=2249, modificationTime=1725612487000),\n",
       " FileInfo(path='dbfs:/dbfs/Workspace/Users/kratikamahale_outlook.com#ext#@kratikamahaleoutlook.onmicrosoft.com/databricks_training/masked.csv/_started_3832948855196801319', name='_started_3832948855196801319', size=0, modificationTime=1725611215000),\n",
       " FileInfo(path='dbfs:/dbfs/Workspace/Users/kratikamahale_outlook.com#ext#@kratikamahaleoutlook.onmicrosoft.com/databricks_training/masked.csv/part-00000-tid-3832948855196801319-148ed0ab-0ef6-428f-83b0-934c207caea4-731-1-c000.csv', name='part-00000-tid-3832948855196801319-148ed0ab-0ef6-428f-83b0-934c207caea4-731-1-c000.csv', size=83246569, modificationTime=1725611409000),\n",
       " FileInfo(path='dbfs:/dbfs/Workspace/Users/kratikamahale_outlook.com#ext#@kratikamahaleoutlook.onmicrosoft.com/databricks_training/masked.csv/part-00001-tid-3832948855196801319-148ed0ab-0ef6-428f-83b0-934c207caea4-732-1-c000.csv', name='part-00001-tid-3832948855196801319-148ed0ab-0ef6-428f-83b0-934c207caea4-732-1-c000.csv', size=83242446, modificationTime=1725611407000),\n",
       " FileInfo(path='dbfs:/dbfs/Workspace/Users/kratikamahale_outlook.com#ext#@kratikamahaleoutlook.onmicrosoft.com/databricks_training/masked.csv/part-00002-tid-3832948855196801319-148ed0ab-0ef6-428f-83b0-934c207caea4-733-1-c000.csv', name='part-00002-tid-3832948855196801319-148ed0ab-0ef6-428f-83b0-934c207caea4-733-1-c000.csv', size=83234733, modificationTime=1725611407000),\n",
       " FileInfo(path='dbfs:/dbfs/Workspace/Users/kratikamahale_outlook.com#ext#@kratikamahaleoutlook.onmicrosoft.com/databricks_training/masked.csv/part-00003-tid-3832948855196801319-148ed0ab-0ef6-428f-83b0-934c207caea4-734-1-c000.csv', name='part-00003-tid-3832948855196801319-148ed0ab-0ef6-428f-83b0-934c207caea4-734-1-c000.csv', size=83241219, modificationTime=1725611402000),\n",
       " FileInfo(path='dbfs:/dbfs/Workspace/Users/kratikamahale_outlook.com#ext#@kratikamahaleoutlook.onmicrosoft.com/databricks_training/masked.csv/part-00004-tid-3832948855196801319-148ed0ab-0ef6-428f-83b0-934c207caea4-735-1-c000.csv', name='part-00004-tid-3832948855196801319-148ed0ab-0ef6-428f-83b0-934c207caea4-735-1-c000.csv', size=83235151, modificationTime=1725611592000),\n",
       " FileInfo(path='dbfs:/dbfs/Workspace/Users/kratikamahale_outlook.com#ext#@kratikamahaleoutlook.onmicrosoft.com/databricks_training/masked.csv/part-00005-tid-3832948855196801319-148ed0ab-0ef6-428f-83b0-934c207caea4-736-1-c000.csv', name='part-00005-tid-3832948855196801319-148ed0ab-0ef6-428f-83b0-934c207caea4-736-1-c000.csv', size=83233222, modificationTime=1725611595000),\n",
       " FileInfo(path='dbfs:/dbfs/Workspace/Users/kratikamahale_outlook.com#ext#@kratikamahaleoutlook.onmicrosoft.com/databricks_training/masked.csv/part-00006-tid-3832948855196801319-148ed0ab-0ef6-428f-83b0-934c207caea4-737-1-c000.csv', name='part-00006-tid-3832948855196801319-148ed0ab-0ef6-428f-83b0-934c207caea4-737-1-c000.csv', size=83238843, modificationTime=1725611596000),\n",
       " FileInfo(path='dbfs:/dbfs/Workspace/Users/kratikamahale_outlook.com#ext#@kratikamahaleoutlook.onmicrosoft.com/databricks_training/masked.csv/part-00007-tid-3832948855196801319-148ed0ab-0ef6-428f-83b0-934c207caea4-738-1-c000.csv', name='part-00007-tid-3832948855196801319-148ed0ab-0ef6-428f-83b0-934c207caea4-738-1-c000.csv', size=83232357, modificationTime=1725611599000),\n",
       " FileInfo(path='dbfs:/dbfs/Workspace/Users/kratikamahale_outlook.com#ext#@kratikamahaleoutlook.onmicrosoft.com/databricks_training/masked.csv/part-00008-tid-3832948855196801319-148ed0ab-0ef6-428f-83b0-934c207caea4-739-1-c000.csv', name='part-00008-tid-3832948855196801319-148ed0ab-0ef6-428f-83b0-934c207caea4-739-1-c000.csv', size=83237482, modificationTime=1725611785000),\n",
       " FileInfo(path='dbfs:/dbfs/Workspace/Users/kratikamahale_outlook.com#ext#@kratikamahaleoutlook.onmicrosoft.com/databricks_training/masked.csv/part-00009-tid-3832948855196801319-148ed0ab-0ef6-428f-83b0-934c207caea4-740-1-c000.csv', name='part-00009-tid-3832948855196801319-148ed0ab-0ef6-428f-83b0-934c207caea4-740-1-c000.csv', size=83237902, modificationTime=1725611783000),\n",
       " FileInfo(path='dbfs:/dbfs/Workspace/Users/kratikamahale_outlook.com#ext#@kratikamahaleoutlook.onmicrosoft.com/databricks_training/masked.csv/part-00010-tid-3832948855196801319-148ed0ab-0ef6-428f-83b0-934c207caea4-741-1-c000.csv', name='part-00010-tid-3832948855196801319-148ed0ab-0ef6-428f-83b0-934c207caea4-741-1-c000.csv', size=83232158, modificationTime=1725611789000),\n",
       " FileInfo(path='dbfs:/dbfs/Workspace/Users/kratikamahale_outlook.com#ext#@kratikamahaleoutlook.onmicrosoft.com/databricks_training/masked.csv/part-00011-tid-3832948855196801319-148ed0ab-0ef6-428f-83b0-934c207caea4-742-1-c000.csv', name='part-00011-tid-3832948855196801319-148ed0ab-0ef6-428f-83b0-934c207caea4-742-1-c000.csv', size=83232666, modificationTime=1725611788000),\n",
       " FileInfo(path='dbfs:/dbfs/Workspace/Users/kratikamahale_outlook.com#ext#@kratikamahaleoutlook.onmicrosoft.com/databricks_training/masked.csv/part-00012-tid-3832948855196801319-148ed0ab-0ef6-428f-83b0-934c207caea4-743-1-c000.csv', name='part-00012-tid-3832948855196801319-148ed0ab-0ef6-428f-83b0-934c207caea4-743-1-c000.csv', size=83233593, modificationTime=1725611974000),\n",
       " FileInfo(path='dbfs:/dbfs/Workspace/Users/kratikamahale_outlook.com#ext#@kratikamahaleoutlook.onmicrosoft.com/databricks_training/masked.csv/part-00013-tid-3832948855196801319-148ed0ab-0ef6-428f-83b0-934c207caea4-744-1-c000.csv', name='part-00013-tid-3832948855196801319-148ed0ab-0ef6-428f-83b0-934c207caea4-744-1-c000.csv', size=83234429, modificationTime=1725611973000),\n",
       " FileInfo(path='dbfs:/dbfs/Workspace/Users/kratikamahale_outlook.com#ext#@kratikamahaleoutlook.onmicrosoft.com/databricks_training/masked.csv/part-00014-tid-3832948855196801319-148ed0ab-0ef6-428f-83b0-934c207caea4-745-1-c000.csv', name='part-00014-tid-3832948855196801319-148ed0ab-0ef6-428f-83b0-934c207caea4-745-1-c000.csv', size=83221939, modificationTime=1725611975000),\n",
       " FileInfo(path='dbfs:/dbfs/Workspace/Users/kratikamahale_outlook.com#ext#@kratikamahaleoutlook.onmicrosoft.com/databricks_training/masked.csv/part-00015-tid-3832948855196801319-148ed0ab-0ef6-428f-83b0-934c207caea4-746-1-c000.csv', name='part-00015-tid-3832948855196801319-148ed0ab-0ef6-428f-83b0-934c207caea4-746-1-c000.csv', size=83231337, modificationTime=1725611978000),\n",
       " FileInfo(path='dbfs:/dbfs/Workspace/Users/kratikamahale_outlook.com#ext#@kratikamahaleoutlook.onmicrosoft.com/databricks_training/masked.csv/part-00016-tid-3832948855196801319-148ed0ab-0ef6-428f-83b0-934c207caea4-747-1-c000.csv', name='part-00016-tid-3832948855196801319-148ed0ab-0ef6-428f-83b0-934c207caea4-747-1-c000.csv', size=83238889, modificationTime=1725612167000),\n",
       " FileInfo(path='dbfs:/dbfs/Workspace/Users/kratikamahale_outlook.com#ext#@kratikamahaleoutlook.onmicrosoft.com/databricks_training/masked.csv/part-00017-tid-3832948855196801319-148ed0ab-0ef6-428f-83b0-934c207caea4-748-1-c000.csv', name='part-00017-tid-3832948855196801319-148ed0ab-0ef6-428f-83b0-934c207caea4-748-1-c000.csv', size=83234116, modificationTime=1725612165000),\n",
       " FileInfo(path='dbfs:/dbfs/Workspace/Users/kratikamahale_outlook.com#ext#@kratikamahaleoutlook.onmicrosoft.com/databricks_training/masked.csv/part-00018-tid-3832948855196801319-148ed0ab-0ef6-428f-83b0-934c207caea4-749-1-c000.csv', name='part-00018-tid-3832948855196801319-148ed0ab-0ef6-428f-83b0-934c207caea4-749-1-c000.csv', size=83228284, modificationTime=1725612168000),\n",
       " FileInfo(path='dbfs:/dbfs/Workspace/Users/kratikamahale_outlook.com#ext#@kratikamahaleoutlook.onmicrosoft.com/databricks_training/masked.csv/part-00019-tid-3832948855196801319-148ed0ab-0ef6-428f-83b0-934c207caea4-750-1-c000.csv', name='part-00019-tid-3832948855196801319-148ed0ab-0ef6-428f-83b0-934c207caea4-750-1-c000.csv', size=83233385, modificationTime=1725612169000),\n",
       " FileInfo(path='dbfs:/dbfs/Workspace/Users/kratikamahale_outlook.com#ext#@kratikamahaleoutlook.onmicrosoft.com/databricks_training/masked.csv/part-00020-tid-3832948855196801319-148ed0ab-0ef6-428f-83b0-934c207caea4-751-1-c000.csv', name='part-00020-tid-3832948855196801319-148ed0ab-0ef6-428f-83b0-934c207caea4-751-1-c000.csv', size=83232286, modificationTime=1725612356000),\n",
       " FileInfo(path='dbfs:/dbfs/Workspace/Users/kratikamahale_outlook.com#ext#@kratikamahaleoutlook.onmicrosoft.com/databricks_training/masked.csv/part-00021-tid-3832948855196801319-148ed0ab-0ef6-428f-83b0-934c207caea4-752-1-c000.csv', name='part-00021-tid-3832948855196801319-148ed0ab-0ef6-428f-83b0-934c207caea4-752-1-c000.csv', size=83238258, modificationTime=1725612358000),\n",
       " FileInfo(path='dbfs:/dbfs/Workspace/Users/kratikamahale_outlook.com#ext#@kratikamahaleoutlook.onmicrosoft.com/databricks_training/masked.csv/part-00022-tid-3832948855196801319-148ed0ab-0ef6-428f-83b0-934c207caea4-753-1-c000.csv', name='part-00022-tid-3832948855196801319-148ed0ab-0ef6-428f-83b0-934c207caea4-753-1-c000.csv', size=83232627, modificationTime=1725612360000),\n",
       " FileInfo(path='dbfs:/dbfs/Workspace/Users/kratikamahale_outlook.com#ext#@kratikamahaleoutlook.onmicrosoft.com/databricks_training/masked.csv/part-00023-tid-3832948855196801319-148ed0ab-0ef6-428f-83b0-934c207caea4-754-1-c000.csv', name='part-00023-tid-3832948855196801319-148ed0ab-0ef6-428f-83b0-934c207caea4-754-1-c000.csv', size=83224585, modificationTime=1725612361000),\n",
       " FileInfo(path='dbfs:/dbfs/Workspace/Users/kratikamahale_outlook.com#ext#@kratikamahaleoutlook.onmicrosoft.com/databricks_training/masked.csv/part-00024-tid-3832948855196801319-148ed0ab-0ef6-428f-83b0-934c207caea4-755-1-c000.csv', name='part-00024-tid-3832948855196801319-148ed0ab-0ef6-428f-83b0-934c207caea4-755-1-c000.csv', size=83219581, modificationTime=1725612487000)]"
      ]
     },
     "execution_count": 11,
     "metadata": {},
     "output_type": "execute_result"
    }
   ],
   "source": [
    "# List the files in a directory and their sizes\n",
    "dbutils.fs.ls(output_path)\n"
   ]
  },
  {
   "cell_type": "code",
   "execution_count": 0,
   "metadata": {
    "application/vnd.databricks.v1+cell": {
     "cellMetadata": {
      "byteLimit": 2048000,
      "rowLimit": 10000
     },
     "inputWidgets": {},
     "nuid": "7a3beda7-9af3-4b9b-9fb9-ad840ec4434a",
     "showTitle": false,
     "title": ""
    }
   },
   "outputs": [],
   "source": [
    "df2 = spark.read.csv(output_path, header=True, inferSchema=True)\n",
    "df2 = df2.coalesce(1)"
   ]
  },
  {
   "cell_type": "code",
   "execution_count": 0,
   "metadata": {
    "application/vnd.databricks.v1+cell": {
     "cellMetadata": {
      "byteLimit": 2048000,
      "rowLimit": 10000
     },
     "inputWidgets": {},
     "nuid": "94db80b0-a810-4b8c-957e-26e9066414aa",
     "showTitle": false,
     "title": ""
    }
   },
   "outputs": [
    {
     "output_type": "display_data",
     "data": {
      "text/plain": [
       "\u001B[0;31m---------------------------------------------------------------------------\u001B[0m\n",
       "\u001B[0;31mNameError\u001B[0m                                 Traceback (most recent call last)\n",
       "File \u001B[0;32m<command-1984032826532986>, line 2\u001B[0m\n",
       "\u001B[1;32m      1\u001B[0m \u001B[38;5;66;03m# Write to local file system (on the driver)\u001B[39;00m\n",
       "\u001B[0;32m----> 2\u001B[0m df2\u001B[38;5;241m.\u001B[39mwrite\u001B[38;5;241m.\u001B[39mcsv(\u001B[38;5;124m\"\u001B[39m\u001B[38;5;124mfile:/tmp/local_csv_files_final/\u001B[39m\u001B[38;5;124m\"\u001B[39m, header\u001B[38;5;241m=\u001B[39m\u001B[38;5;28;01mTrue\u001B[39;00m)\n",
       "\n",
       "\u001B[0;31mNameError\u001B[0m: name 'df2' is not defined"
      ]
     },
     "metadata": {
      "application/vnd.databricks.v1+output": {
       "addedWidgets": {},
       "arguments": {},
       "datasetInfos": [],
       "jupyterProps": {
        "ename": "NameError",
        "evalue": "name 'df2' is not defined"
       },
       "metadata": {
        "errorSummary": "<span class='ansi-red-fg'>NameError</span>: name 'df2' is not defined"
       },
       "removedWidgets": [],
       "sqlProps": null,
       "stackFrames": [
        "\u001B[0;31m---------------------------------------------------------------------------\u001B[0m",
        "\u001B[0;31mNameError\u001B[0m                                 Traceback (most recent call last)",
        "File \u001B[0;32m<command-1984032826532986>, line 2\u001B[0m\n\u001B[1;32m      1\u001B[0m \u001B[38;5;66;03m# Write to local file system (on the driver)\u001B[39;00m\n\u001B[0;32m----> 2\u001B[0m df2\u001B[38;5;241m.\u001B[39mwrite\u001B[38;5;241m.\u001B[39mcsv(\u001B[38;5;124m\"\u001B[39m\u001B[38;5;124mfile:/tmp/local_csv_files_final/\u001B[39m\u001B[38;5;124m\"\u001B[39m, header\u001B[38;5;241m=\u001B[39m\u001B[38;5;28;01mTrue\u001B[39;00m)\n",
        "\u001B[0;31mNameError\u001B[0m: name 'df2' is not defined"
       ],
       "type": "baseError"
      }
     },
     "output_type": "display_data"
    }
   ],
   "source": [
    "# Write to local file system (on the driver)\n",
    "df2.write.csv(\"file:/tmp/local_csv_files_final/\", header=True)"
   ]
  },
  {
   "cell_type": "code",
   "execution_count": 0,
   "metadata": {
    "application/vnd.databricks.v1+cell": {
     "cellMetadata": {
      "byteLimit": 2048000,
      "rowLimit": 10000
     },
     "inputWidgets": {},
     "nuid": "d1232df1-51be-44d5-aeff-90fc1f0c333c",
     "showTitle": false,
     "title": ""
    }
   },
   "outputs": [
    {
     "output_type": "stream",
     "name": "stdout",
     "output_type": "stream",
     "text": [
      "Source file does not exist.\n"
     ]
    }
   ],
   "source": [
    "import os\n",
    "\n",
    "# Specify the source and destination paths\n",
    "source_path = \"/tmp/local_csv_files_final/\"\n",
    "destination_path = \"dbfs:/tmp/local_csv_files_final/\"\n",
    "\n",
    "# Check if the source file exists\n",
    "if os.path.exists(source_path):\n",
    "    # Copy the files from the local file system to DBFS\n",
    "    dbutils.fs.cp(\"file:\" + source_path, destination_path, recurse=True)\n",
    "    print(\"Files copied successfully!\")\n",
    "else:\n",
    "    print(\"Source file does not exist.\")"
   ]
  }
 ],
 "metadata": {
  "application/vnd.databricks.v1+notebook": {
   "dashboards": [],
   "environmentMetadata": null,
   "language": "python",
   "notebookMetadata": {
    "pythonIndentUnit": 4
   },
   "notebookName": "masking2",
   "widgets": {}
  }
 },
 "nbformat": 4,
 "nbformat_minor": 0
}
